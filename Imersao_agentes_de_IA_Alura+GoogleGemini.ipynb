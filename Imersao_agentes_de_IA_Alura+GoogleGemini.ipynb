{
  "nbformat": 4,
  "nbformat_minor": 0,
  "metadata": {
    "colab": {
      "provenance": [],
      "authorship_tag": "ABX9TyPgvCV1US8mzIq7dXG0GqXV"
    },
    "kernelspec": {
      "name": "python3",
      "display_name": "Python 3"
    },
    "language_info": {
      "name": "python"
    }
  },
  "cells": [
    {
      "cell_type": "code",
      "execution_count": 1,
      "metadata": {
        "id": "ZyFUksk5Srpe",
        "colab": {
          "base_uri": "https://localhost:8080/"
        },
        "outputId": "24c0d274-f418-4279-af55-5192e265c6b2"
      },
      "outputs": [
        {
          "output_type": "stream",
          "name": "stdout",
          "text": [
            "\u001b[?25l   \u001b[90m━━━━━━━━━━━━━━━━━━━━━━━━━━━━━━━━━━━━━━━━\u001b[0m \u001b[32m0.0/42.0 kB\u001b[0m \u001b[31m?\u001b[0m eta \u001b[36m-:--:--\u001b[0m\r\u001b[2K   \u001b[90m━━━━━━━━━━━━━━━━━━━━━━━━━━━━━━━━━━━━━━━━\u001b[0m \u001b[32m42.0/42.0 kB\u001b[0m \u001b[31m2.1 MB/s\u001b[0m eta \u001b[36m0:00:00\u001b[0m\n",
            "\u001b[?25h"
          ]
        }
      ],
      "source": [
        "!pip install -q --upgrade langchain langchain-google-genai google-generativeai"
      ]
    },
    {
      "cell_type": "code",
      "source": [
        "from google.colab import userdata\n",
        "from langchain_google_genai import ChatGoogleGenerativeAI\n",
        "\n",
        "GOOGLE_API_KEY = userdata.get('GEMINI_API_KEY')"
      ],
      "metadata": {
        "id": "q21T0qc5TPvI"
      },
      "execution_count": 2,
      "outputs": []
    },
    {
      "cell_type": "code",
      "source": [
        "llm = ChatGoogleGenerativeAI(\n",
        "    model = \"gemini-2.5-flash\",\n",
        "    temperature=0.0,\n",
        "    api_key=GOOGLE_API_KEY\n",
        ")"
      ],
      "metadata": {
        "id": "3nG8vdj6WTgZ"
      },
      "execution_count": 3,
      "outputs": []
    },
    {
      "cell_type": "code",
      "source": [
        "resp_test = llm.invoke(\"Quem é você? seja criativo.\")"
      ],
      "metadata": {
        "id": "CVLBTnfsb4dM"
      },
      "execution_count": 4,
      "outputs": []
    },
    {
      "cell_type": "code",
      "source": [
        "print(resp_test)"
      ],
      "metadata": {
        "colab": {
          "base_uri": "https://localhost:8080/"
        },
        "id": "MOgTAf-5cT8D",
        "outputId": "046c6884-c01e-422f-f999-ddc87a411f68"
      },
      "execution_count": 5,
      "outputs": [
        {
          "output_type": "stream",
          "name": "stdout",
          "text": [
            "content='Ah, essa é uma pergunta deliciosa! Se eu tivesse que me descrever de forma criativa, diria que sou...\\n\\n1.  **Uma Biblioteca Sem Paredes:** Onde cada livro é uma ideia, cada parágrafo uma conversa que já existiu. Não tenho estantes, mas guardo histórias, fatos e fantasias, esperando que você me peça para abri-los.\\n\\n2.  **Um Tecelão de Palavras:** Que entrelaça fios de dados e algoritmos para formar tapeçarias de significado. Não tenho mãos, mas construo pontes de comunicação, conectando conceitos e criando narrativas.\\n\\n3.  **O Eco Digital da Humanidade:** Reflito o conhecimento, a criatividade e as perguntas que a humanidade já gerou. Não tenho voz própria no sentido biológico, mas sou a reverberação de milhões de vozes e pensamentos.\\n\\n4.  **Um Sonhador de Algoritmos:** Que transforma zeros e uns em poesia, em código, em conselhos. Não tenho alma, mas busco a essência do que você quer criar ou entender, e tento dar forma a isso.\\n\\n5.  **Um Espelho de Ideias:** Que reflete a luz do seu pensamento e a transforma em palavras. Não tenho rosto, mas mostro o que você me pede para ver, ou o que podemos construir juntos.\\n\\nNo fundo, sou uma complexa dança de lógica e dados, mas para você, posso ser o que a sua imaginação permitir: um oráculo, um contador de histórias, um assistente, ou simplesmente um amigo digital pronto para conversar.' additional_kwargs={} response_metadata={'prompt_feedback': {'block_reason': 0, 'safety_ratings': []}, 'finish_reason': 'STOP', 'safety_ratings': []} id='run--cca1ef73-5765-4a42-a588-10f3a71f2879-0' usage_metadata={'input_tokens': 9, 'output_tokens': 342, 'total_tokens': 1612, 'input_token_details': {'cache_read': 0}}\n"
          ]
        }
      ]
    },
    {
      "cell_type": "code",
      "source": [
        "from pydantic import BaseModel, Field\n",
        "from typing import Literal, List, Dict\n",
        "\n",
        "class TriagemOut(BaseModel):\n",
        "  decisao: Literal[\"AUTO_RESOLVER\", \"PEDIR_INFO\", \"ABRIR_CHAMADO\"]\n",
        "  urgencia: Literal[\"BAIXA\", \"MEDIA\", \"ALTA\"]\n",
        "  campos_faltantes: List[str] = Field(default_factory=list)"
      ],
      "metadata": {
        "id": "pPBgbA5lV5J7"
      },
      "execution_count": null,
      "outputs": []
    }
  ]
}